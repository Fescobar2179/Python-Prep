{
 "cells": [
  {
   "attachments": {},
   "cell_type": "markdown",
   "metadata": {},
   "source": [
    "## Funciones"
   ]
  },
  {
   "attachments": {},
   "cell_type": "markdown",
   "metadata": {},
   "source": [
    "1) Crear una función que reciba un número como parámetro y devuelva True si es primo y False si no lo es"
   ]
  },
  {
   "cell_type": "code",
   "execution_count": 4,
   "metadata": {},
   "outputs": [],
   "source": [
    "def Primos(num):\n",
    "    if num < 2:\n",
    "        return False\n",
    "    else:\n",
    "        for i in range(2, num):\n",
    "            if num % i == 0:\n",
    "                return False\n",
    "        return True"
   ]
  },
  {
   "attachments": {},
   "cell_type": "markdown",
   "metadata": {},
   "source": [
    "2) Utilizando la función del punto 1, realizar otra función que reciba de parámetro una lista de números y devuelva sólo aquellos que son primos en otra lista"
   ]
  },
  {
   "cell_type": "code",
   "execution_count": 6,
   "metadata": {},
   "outputs": [],
   "source": [
    "listaNum = []\n",
    "for i in range(1, 31):\n",
    "    listaNum.append(i)"
   ]
  },
  {
   "cell_type": "code",
   "execution_count": 9,
   "metadata": {},
   "outputs": [
    {
     "name": "stdout",
     "output_type": "stream",
     "text": [
      "[2, 3, 5, 7, 11, 13, 17, 19, 23, 29]\n"
     ]
    }
   ],
   "source": [
    "def SoloPrimos(lista):\n",
    "    numPrimos = []\n",
    "    for i in lista:\n",
    "        if Primos(i):\n",
    "            numPrimos.append(i)\n",
    "    return numPrimos\n",
    "\n",
    "print(SoloPrimos(listaNum))"
   ]
  },
  {
   "attachments": {},
   "cell_type": "markdown",
   "metadata": {},
   "source": [
    "3) Crear una función que al recibir una lista de números, devuelva el que más se repite y cuántas veces lo hace. Si hay más de un \"más repetido\", que devuelva cualquiera"
   ]
  },
  {
   "cell_type": "code",
   "execution_count": 20,
   "metadata": {},
   "outputs": [],
   "source": [
    "def ModaRepeticiones(lista):\n",
    "    unicos = []\n",
    "    repeticiones = []\n",
    "\n",
    "    if list(lista) == 0:\n",
    "        return None\n",
    "    else:\n",
    "        for value in lista:\n",
    "            if value in unicos: #Si existe dentro de unicos\n",
    "                i = unicos.index(value)\n",
    "                repeticiones[i] += 1\n",
    "            else:   #Si no existe dentro de unicos\n",
    "                unicos.append(value)\n",
    "                repeticiones.append(1)\n",
    "    \n",
    "    moda = unicos[0]    \n",
    "    maximo = repeticiones[0]\n",
    "\n",
    "    for index, elementos in enumerate(unicos):        \n",
    "        if maximo < repeticiones[index]:    #Si el maximo es menor a las repeticiones\n",
    "            '''\n",
    "            Si el máximo es menor al valor guardado, se reemplaza.\n",
    "            '''\n",
    "            moda = elementos\n",
    "            maximo = repeticiones[index]\n",
    "\n",
    "    return moda, maximo"
   ]
  },
  {
   "cell_type": "code",
   "execution_count": 23,
   "metadata": {},
   "outputs": [],
   "source": [
    "lis = [1,1,5,6,8,10,22,5,6,4,11,9,5,1,1]"
   ]
  },
  {
   "cell_type": "code",
   "execution_count": 24,
   "metadata": {},
   "outputs": [
    {
     "data": {
      "text/plain": [
       "(1, 4)"
      ]
     },
     "execution_count": 24,
     "metadata": {},
     "output_type": "execute_result"
    }
   ],
   "source": [
    "ModaRepeticiones(lis)"
   ]
  },
  {
   "attachments": {},
   "cell_type": "markdown",
   "metadata": {},
   "source": [
    "4) Crear una función que convierta entre grados Celsius, Fahrenheit y Kelvin<br>\n",
    "Fórmula 1\t: (°C × 9/5) + 32 = °F<br>\n",
    "Fórmula 2\t: °C + 273.15 = °K<br>\n",
    "Debe recibir 3 parámetros: el valor, la medida de orígen y la medida de destino\n"
   ]
  },
  {
   "cell_type": "code",
   "execution_count": 26,
   "metadata": {},
   "outputs": [],
   "source": [
    "def ConversionTemperaturas(valor, origen, destino):\n",
    "    conversion = 0\n",
    "    if origen == 'Celsius':\n",
    "        if destino == 'Fahrenheit':\n",
    "            conversion = 32 + (9/5 * valor)\n",
    "        elif destino == 'Kelvin':\n",
    "            conversion = 273.15 + valor\n",
    "        else:\n",
    "            return 'Destino ingresado no valido.'\n",
    "    elif origen == 'Fahrenheit':\n",
    "        if destino == 'Celsius':\n",
    "            conversion = 5/9 * (valor - 32)\n",
    "        elif destino == 'Kelvin':\n",
    "            conversion = 273.15 + 5/9 * (valor - 32)\n",
    "        else:\n",
    "            return 'Destino ingresado no valido.'\n",
    "    elif origen == 'Kelvin':\n",
    "        if destino == 'Celsius':\n",
    "            conversion = valor - 273.15\n",
    "        elif destino == 'Fahrenheit':\n",
    "            conversion = 32 + 9/5 * (valor - 273.15)\n",
    "        else:\n",
    "            return 'Destino ingresado no valido.'\n",
    "    else:\n",
    "        return 'Origen ingresado no valido.'\n",
    "    \n",
    "    return round(conversion, 2)"
   ]
  },
  {
   "attachments": {},
   "cell_type": "markdown",
   "metadata": {},
   "source": [
    "5) Iterando una lista con los tres valores posibles de temperatura que recibe la función del punto 5, hacer un print para cada combinación de los mismos:"
   ]
  },
  {
   "cell_type": "code",
   "execution_count": 27,
   "metadata": {},
   "outputs": [
    {
     "name": "stdout",
     "output_type": "stream",
     "text": [
      "15 grados Celsius a grados Fahrenheit =  59.0\n",
      "15 grados Celsius a grados Kelvin =  288.15\n",
      "15 grados Fahrenheit a grados Celsius =  -9.44\n",
      "15 grados Fahrenheit a grados Kelvin =  263.71\n",
      "15 grados Kelvin a grados Celsius =  -258.15\n",
      "15 grados Kelvin a grados Fahrenheit =  -432.67\n"
     ]
    }
   ],
   "source": [
    "temperaturas = ['Celsius', 'Fahrenheit', 'Kelvin']\n",
    "\n",
    "for i in temperaturas:\n",
    "    for j in temperaturas:\n",
    "        if i == j:\n",
    "            continue\n",
    "        else:\n",
    "            print(f'15 grados {i} a grados {j} = ', ConversionTemperaturas(15, i, j))"
   ]
  },
  {
   "attachments": {},
   "cell_type": "markdown",
   "metadata": {},
   "source": [
    "6) Armar una función que devuelva el factorial de un número. Tener en cuenta que el usuario puede equivocarse y enviar de parámetro un número no entero o negativo"
   ]
  },
  {
   "cell_type": "code",
   "execution_count": 28,
   "metadata": {},
   "outputs": [],
   "source": [
    "def Factorial(num):\n",
    "    if type(num) != int or num < 0:\n",
    "        print('Dato ingresado invalido')\n",
    "    else:\n",
    "        if num <= 1:\n",
    "            return 1\n",
    "        else:\n",
    "            return num * Factorial(num - 1)"
   ]
  },
  {
   "cell_type": "code",
   "execution_count": 34,
   "metadata": {},
   "outputs": [
    {
     "data": {
      "text/plain": [
       "120"
      ]
     },
     "execution_count": 34,
     "metadata": {},
     "output_type": "execute_result"
    }
   ],
   "source": [
    "Factorial(5)"
   ]
  }
 ],
 "metadata": {
  "interpreter": {
   "hash": "c85384e4cb51c8b72350f3a8712cc8351fdc3955e32a27f9b60c6242ab125f01"
  },
  "kernelspec": {
   "display_name": "Python 3 (ipykernel)",
   "language": "python",
   "name": "python3"
  },
  "language_info": {
   "codemirror_mode": {
    "name": "ipython",
    "version": 3
   },
   "file_extension": ".py",
   "mimetype": "text/x-python",
   "name": "python",
   "nbconvert_exporter": "python",
   "pygments_lexer": "ipython3",
   "version": "3.10.13"
  }
 },
 "nbformat": 4,
 "nbformat_minor": 4
}
