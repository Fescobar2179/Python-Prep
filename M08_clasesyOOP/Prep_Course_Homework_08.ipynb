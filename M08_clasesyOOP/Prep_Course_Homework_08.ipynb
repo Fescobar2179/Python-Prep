{
 "cells": [
  {
   "attachments": {},
   "cell_type": "markdown",
   "metadata": {},
   "source": [
    "## Clases y Programación Orientada a Objetos"
   ]
  },
  {
   "attachments": {},
   "cell_type": "markdown",
   "metadata": {},
   "source": [
    "1) Crear la clase vehículo que contenga los atributos:<br>\n",
    "Color<br>\n",
    "Si es moto, auto, camioneta ó camión<br>\n",
    "Cilindrada del motor"
   ]
  },
  {
   "cell_type": "code",
   "execution_count": 1,
   "metadata": {},
   "outputs": [],
   "source": [
    "class Vehiculo:\n",
    "    def __init__(self, tipo, color, cilindrada):\n",
    "        self.tipo = tipo\n",
    "        self.color = color\n",
    "        self.cilindrada = cilindrada"
   ]
  },
  {
   "attachments": {},
   "cell_type": "markdown",
   "metadata": {},
   "source": [
    "2) A la clase Vehiculo creada en el punto 1, agregar los siguientes métodos:<br>\n",
    "Acelerar<br>\n",
    "Frenar<br>\n",
    "Doblar<br>"
   ]
  },
  {
   "cell_type": "code",
   "execution_count": 15,
   "metadata": {},
   "outputs": [],
   "source": [
    "class Vehiculo:\n",
    "    def __init__(self, tipo, color, cilindrada):\n",
    "        self.tipo = tipo\n",
    "        self.color = color\n",
    "        self.cilindrada = cilindrada\n",
    "        self.velocidad = 0\n",
    "        self.direccion = 0\n",
    "\n",
    "    def Acelerar(self, maximo):\n",
    "        aceleracion = self.velocidad + maximo\n",
    "\n",
    "        if self.velocidad > 150:\n",
    "            self.velocidad = 150\n",
    "        else:\n",
    "            self.velocidad = aceleracion\n",
    "    \n",
    "    def Frenar(self, minimo):\n",
    "        frenada = self.velocidad - minimo\n",
    "\n",
    "        if self.velocidad < 0:\n",
    "            self.velocidad = 0\n",
    "        else:\n",
    "            self.velocidad = frenada\n",
    "\n",
    "    def Doblar(self, grados):\n",
    "        self.direccion += grados"
   ]
  },
  {
   "attachments": {},
   "cell_type": "markdown",
   "metadata": {},
   "source": [
    "3) Instanciar 3 objetos de la clase vehículo y ejecutar sus métodos, probar luego el resultado"
   ]
  },
  {
   "cell_type": "code",
   "execution_count": 16,
   "metadata": {},
   "outputs": [],
   "source": [
    "carro = Vehiculo('Carro', 'Amarillo', 1100)\n",
    "moto = Vehiculo('Motocicleta', 'Negro', 250)\n",
    "camion = Vehiculo('Camión', 'Blanco', 4500)"
   ]
  },
  {
   "attachments": {},
   "cell_type": "markdown",
   "metadata": {},
   "source": [
    "4) Agregar a la clase Vehiculo, un método que muestre su estado, es decir, a que velocidad se encuentra y su dirección. Y otro método que muestre color, tipo y cilindrada"
   ]
  },
  {
   "cell_type": "code",
   "execution_count": 21,
   "metadata": {},
   "outputs": [],
   "source": [
    "class Vehiculo:\n",
    "    def __init__(self, tipo, color, cilindrada):\n",
    "        self.tipo = tipo\n",
    "        self.color = color\n",
    "        self.cilindrada = cilindrada\n",
    "        self.velocidad = 0\n",
    "        self.direccion = 0\n",
    "\n",
    "    def Acelerar(self, maximo):\n",
    "        aceleracion = self.velocidad + maximo\n",
    "\n",
    "        if self.velocidad > 150:\n",
    "            self.velocidad = 150\n",
    "        else:\n",
    "            self.velocidad = aceleracion\n",
    "    \n",
    "    def Frenar(self, minimo):\n",
    "        frenada = self.velocidad - minimo\n",
    "\n",
    "        if self.velocidad < 0:\n",
    "            self.velocidad = 0\n",
    "        else:\n",
    "            self.velocidad = frenada\n",
    "\n",
    "    def Doblar(self, grados):\n",
    "        self.direccion += grados\n",
    "\n",
    "    def Estado(self):\n",
    "        print('Velocidad -> ', str(self.velocidad))\n",
    "        print('Dirección -> ', str(self.direccion))\n",
    "        \n",
    "    def Detalle(self):\n",
    "        print('Tipo -> ', self.tipo, end='\\n'\n",
    "              'Color -> '+ self.color)\n",
    "        print('Cilindrada ', self.cilindrada)"
   ]
  },
  {
   "cell_type": "code",
   "execution_count": 22,
   "metadata": {},
   "outputs": [],
   "source": [
    "carro = Vehiculo('Carro', 'Amarillo', 1100)\n",
    "moto = Vehiculo('Motocicleta', 'Negro', 250)\n",
    "camion = Vehiculo('Camión', 'Blanco', 4500)"
   ]
  },
  {
   "cell_type": "code",
   "execution_count": 24,
   "metadata": {},
   "outputs": [
    {
     "name": "stdout",
     "output_type": "stream",
     "text": [
      "Velocidad ->  0\n",
      "Dirección ->  0\n",
      "Velocidad ->  50\n",
      "Dirección ->  0\n"
     ]
    }
   ],
   "source": [
    "carro.Estado()\n",
    "carro.Acelerar(50)\n",
    "carro.Estado()"
   ]
  },
  {
   "attachments": {},
   "cell_type": "markdown",
   "metadata": {},
   "source": [
    "5) Crear una clase que permita utilizar las funciones creadas en la práctica del módulo 7<br>\n",
    "Verificar Primo<br>\n",
    "Valor modal<br>\n",
    "Conversión grados<br>\n",
    "Factorial<br>"
   ]
  },
  {
   "cell_type": "code",
   "execution_count": 14,
   "metadata": {},
   "outputs": [],
   "source": [
    "class Configuraciones:\n",
    "    def __init__(self) -> None:\n",
    "        pass\n",
    "\n",
    "    def Primos(self, num):  #Obtiene el número primo\n",
    "        if num < 2:\n",
    "            return False\n",
    "        else:\n",
    "            for i in range(2, num):\n",
    "                if num % i == 0:\n",
    "                    return False\n",
    "            return True\n",
    "        \n",
    "    def ModaRepeticiones(self, lista):  #Obtiene que número se repite mas veces\n",
    "        unicos = []\n",
    "        repeticiones = []\n",
    "\n",
    "        if list(lista) == 0:\n",
    "            return None\n",
    "        else:\n",
    "            for value in lista:\n",
    "                if value in unicos: #Si existe dentro de unicos\n",
    "                    i = unicos.index(value)\n",
    "                    repeticiones[i] += 1\n",
    "                else:   #Si no existe dentro de unicos\n",
    "                    unicos.append(value)\n",
    "                    repeticiones.append(1)\n",
    "        \n",
    "        moda = unicos[0]    \n",
    "        maximo = repeticiones[0]\n",
    "\n",
    "        for index, elementos in enumerate(unicos):        \n",
    "            if maximo < repeticiones[index]:    #Si el maximo es menor a las repeticiones\n",
    "                '''\n",
    "                Si el máximo es menor al valor guardado, se reemplaza.\n",
    "                '''\n",
    "                moda = elementos\n",
    "                maximo = repeticiones[index]\n",
    "\n",
    "        return moda, maximo\n",
    "    \n",
    "    def ConversionTemperaturas(self, valor, origen, destino):   #Conversor de Temperaturas\n",
    "        conversion = 0\n",
    "        if origen == 'Celsius':\n",
    "            if destino == 'Fahrenheit':\n",
    "                conversion = 32 + (9/5 * valor)\n",
    "            elif destino == 'Kelvin':\n",
    "                conversion = 273.15 + valor\n",
    "            else:\n",
    "                return 'Destino ingresado no valido.'\n",
    "        elif origen == 'Fahrenheit':\n",
    "            if destino == 'Celsius':\n",
    "                conversion = 5/9 * (valor - 32)\n",
    "            elif destino == 'Kelvin':\n",
    "                conversion = 273.15 + 5/9 * (valor - 32)\n",
    "            else:\n",
    "                return 'Destino ingresado no valido.'\n",
    "        elif origen == 'Kelvin':\n",
    "            if destino == 'Celsius':\n",
    "                conversion = valor - 273.15\n",
    "            elif destino == 'Fahrenheit':\n",
    "                conversion = 32 + 9/5 * (valor - 273.15)\n",
    "            else:\n",
    "                return 'Destino ingresado no valido.'\n",
    "        else:\n",
    "            return 'Origen ingresado no valido.'\n",
    "        \n",
    "        return round(conversion, 2)\n",
    "    \n",
    "    def Factorial(self, num):   #Obtiene el factorial\n",
    "        if type(num) != int or num < 0:\n",
    "            print('Dato ingresado invalido')\n",
    "        else:\n",
    "            if num <= 1:\n",
    "                return 1\n",
    "            else:\n",
    "                return num * self.Factorial(num - 1)"
   ]
  },
  {
   "attachments": {},
   "cell_type": "markdown",
   "metadata": {},
   "source": [
    "6) Probar las funciones incorporadas en la clase del punto 5"
   ]
  },
  {
   "cell_type": "code",
   "execution_count": 15,
   "metadata": {},
   "outputs": [],
   "source": [
    "myApp = Configuraciones()"
   ]
  },
  {
   "cell_type": "code",
   "execution_count": 3,
   "metadata": {},
   "outputs": [
    {
     "data": {
      "text/plain": [
       "True"
      ]
     },
     "execution_count": 3,
     "metadata": {},
     "output_type": "execute_result"
    }
   ],
   "source": [
    "#Primos\n",
    "myApp.Primos(3)"
   ]
  },
  {
   "cell_type": "code",
   "execution_count": 4,
   "metadata": {},
   "outputs": [
    {
     "data": {
      "text/plain": [
       "(1, 4)"
      ]
     },
     "execution_count": 4,
     "metadata": {},
     "output_type": "execute_result"
    }
   ],
   "source": [
    "#Moda Repeticiones\n",
    "lis = [1,1,5,6,8,10,22,5,6,4,11,9,5,1,1]\n",
    "myApp.ModaRepeticiones(lis)"
   ]
  },
  {
   "cell_type": "code",
   "execution_count": 10,
   "metadata": {},
   "outputs": [
    {
     "data": {
      "text/plain": [
       "288.15"
      ]
     },
     "execution_count": 10,
     "metadata": {},
     "output_type": "execute_result"
    }
   ],
   "source": [
    "#Temperaturas\n",
    "myApp.ConversionTemperaturas(15, 'Celsius', 'Kelvin')"
   ]
  },
  {
   "cell_type": "code",
   "execution_count": 16,
   "metadata": {},
   "outputs": [
    {
     "data": {
      "text/plain": [
       "120"
      ]
     },
     "execution_count": 16,
     "metadata": {},
     "output_type": "execute_result"
    }
   ],
   "source": [
    "#Factorial\n",
    "myApp.Factorial(5)"
   ]
  },
  {
   "attachments": {},
   "cell_type": "markdown",
   "metadata": {},
   "source": [
    "7) Es necesario que la clase creada en el punto 5 contenga una lista, sobre la cual se apliquen las funciones incorporadas"
   ]
  },
  {
   "cell_type": "code",
   "execution_count": 7,
   "metadata": {},
   "outputs": [],
   "source": [
    "class Configuraciones:\n",
    "    def __init__(self, myList):\n",
    "        self.lista = myList\n",
    "    \n",
    "# -------------------------------------------------------------------------------------------------\n",
    "    def Primos(self):\n",
    "        for i in self.lista:\n",
    "            if self.__Primos(i):\n",
    "                print(f'El número {i} es primo')\n",
    "            else:\n",
    "                print(f'El número {i} no es primo')\n",
    "\n",
    "    def ConversionTemperaturas(self, origen, destino):\n",
    "        for i in self.lista:\n",
    "            print(f'{i} {origen} a {destino} es: ', str(self.__ConversionTemperaturas(i, origen, destino)))\n",
    "\n",
    "# -------------------------------------------------------------------------------------------------\n",
    "\n",
    "    def __Primos(self, num):  #Obtiene el número primo\n",
    "        if num < 2:\n",
    "            return False\n",
    "        else:\n",
    "            for i in range(2, num):\n",
    "                if num % i == 0:\n",
    "                    return False\n",
    "            return True\n",
    "        \n",
    "    def ModaRepeticiones(self, lista):  #Obtiene que número se repite mas veces\n",
    "        unicos = []\n",
    "        repeticiones = []\n",
    "\n",
    "        if list(lista) == 0:\n",
    "            return None\n",
    "        else:\n",
    "            for value in lista:\n",
    "                if value in unicos: #Si existe dentro de unicos\n",
    "                    i = unicos.index(value)\n",
    "                    repeticiones[i] += 1\n",
    "                else:   #Si no existe dentro de unicos\n",
    "                    unicos.append(value)\n",
    "                    repeticiones.append(1)\n",
    "        \n",
    "        moda = unicos[0]    \n",
    "        maximo = repeticiones[0]\n",
    "\n",
    "        for index, elementos in enumerate(unicos):        \n",
    "            if maximo < repeticiones[index]:    #Si el maximo es menor a las repeticiones\n",
    "                '''\n",
    "                Si el máximo es menor al valor guardado, se reemplaza.\n",
    "                '''\n",
    "                moda = elementos\n",
    "                maximo = repeticiones[index]\n",
    "\n",
    "        return moda, maximo\n",
    "    \n",
    "    def __ConversionTemperaturas(self, valor, origen, destino):   #Conversor de Temperaturas\n",
    "        conversion = 0\n",
    "        if origen == 'Celsius':\n",
    "            if destino == 'Fahrenheit':\n",
    "                conversion = 32 + (9/5 * valor)\n",
    "            elif destino == 'Kelvin':\n",
    "                conversion = 273.15 + valor\n",
    "            else:\n",
    "                return 'Destino ingresado no valido.'\n",
    "        elif origen == 'Fahrenheit':\n",
    "            if destino == 'Celsius':\n",
    "                conversion = 5/9 * (valor - 32)\n",
    "            elif destino == 'Kelvin':\n",
    "                conversion = 273.15 + 5/9 * (valor - 32)\n",
    "            else:\n",
    "                return 'Destino ingresado no valido.'\n",
    "        elif origen == 'Kelvin':\n",
    "            if destino == 'Celsius':\n",
    "                conversion = valor - 273.15\n",
    "            elif destino == 'Fahrenheit':\n",
    "                conversion = 32 + 9/5 * (valor - 273.15)\n",
    "            else:\n",
    "                return 'Destino ingresado no valido.'\n",
    "        else:\n",
    "            return 'Origen ingresado no valido.'\n",
    "        \n",
    "        return round(conversion, 2)\n",
    "    \n",
    "    def __Factorial(self, num):   #Obtiene el factorial\n",
    "        if type(num) != int or num < 0:\n",
    "            print('Dato ingresado invalido')\n",
    "        else:\n",
    "            if num <= 1:\n",
    "                return 1\n",
    "            else:\n",
    "                return num * self.Factorial(num - 1)"
   ]
  },
  {
   "cell_type": "code",
   "execution_count": 8,
   "metadata": {},
   "outputs": [],
   "source": [
    "lis = [1,1,5,6,8,10,22,5,6,4,11,9,5,1,1]"
   ]
  },
  {
   "cell_type": "code",
   "execution_count": 9,
   "metadata": {},
   "outputs": [],
   "source": [
    "myApp = Configuraciones(lis)"
   ]
  },
  {
   "cell_type": "code",
   "execution_count": 12,
   "metadata": {},
   "outputs": [
    {
     "name": "stdout",
     "output_type": "stream",
     "text": [
      "El número 1 no es primo\n",
      "El número 1 no es primo\n",
      "El número 5 es primo\n",
      "El número 6 no es primo\n",
      "El número 8 no es primo\n",
      "El número 10 no es primo\n",
      "El número 22 no es primo\n",
      "El número 5 es primo\n",
      "El número 6 no es primo\n",
      "El número 4 no es primo\n",
      "El número 11 es primo\n",
      "El número 9 no es primo\n",
      "El número 5 es primo\n",
      "El número 1 no es primo\n",
      "El número 1 no es primo\n"
     ]
    }
   ],
   "source": [
    "myApp.Primos()"
   ]
  },
  {
   "cell_type": "code",
   "execution_count": 11,
   "metadata": {},
   "outputs": [
    {
     "name": "stdout",
     "output_type": "stream",
     "text": [
      "1 Celsius a Kelvin es:  274.15\n",
      "1 Celsius a Kelvin es:  274.15\n",
      "5 Celsius a Kelvin es:  278.15\n",
      "6 Celsius a Kelvin es:  279.15\n",
      "8 Celsius a Kelvin es:  281.15\n",
      "10 Celsius a Kelvin es:  283.15\n",
      "22 Celsius a Kelvin es:  295.15\n",
      "5 Celsius a Kelvin es:  278.15\n",
      "6 Celsius a Kelvin es:  279.15\n",
      "4 Celsius a Kelvin es:  277.15\n",
      "11 Celsius a Kelvin es:  284.15\n",
      "9 Celsius a Kelvin es:  282.15\n",
      "5 Celsius a Kelvin es:  278.15\n",
      "1 Celsius a Kelvin es:  274.15\n",
      "1 Celsius a Kelvin es:  274.15\n"
     ]
    }
   ],
   "source": [
    "myApp.ConversionTemperaturas('Celsius', 'Kelvin')"
   ]
  },
  {
   "attachments": {},
   "cell_type": "markdown",
   "metadata": {},
   "source": [
    "8) Crear un archivo .py aparte y ubicar allí la clase generada en el punto anterior. Luego realizar la importación del módulo y probar alguna de sus funciones"
   ]
  },
  {
   "cell_type": "code",
   "execution_count": 13,
   "metadata": {},
   "outputs": [],
   "source": [
    "from configuraciones import *"
   ]
  },
  {
   "cell_type": "code",
   "execution_count": 14,
   "metadata": {},
   "outputs": [],
   "source": [
    "config = Configuraciones([1,1,5,6,8,10,22,5,6,4,11,9,5,1,1])"
   ]
  },
  {
   "cell_type": "code",
   "execution_count": 15,
   "metadata": {},
   "outputs": [
    {
     "name": "stdout",
     "output_type": "stream",
     "text": [
      "El número 1 no es primo\n",
      "El número 1 no es primo\n",
      "El número 5 es primo\n",
      "El número 6 no es primo\n",
      "El número 8 no es primo\n",
      "El número 10 no es primo\n",
      "El número 22 no es primo\n",
      "El número 5 es primo\n",
      "El número 6 no es primo\n",
      "El número 4 no es primo\n",
      "El número 11 es primo\n",
      "El número 9 no es primo\n",
      "El número 5 es primo\n",
      "El número 1 no es primo\n",
      "El número 1 no es primo\n"
     ]
    }
   ],
   "source": [
    "config.Primos()"
   ]
  }
 ],
 "metadata": {
  "interpreter": {
   "hash": "c85384e4cb51c8b72350f3a8712cc8351fdc3955e32a27f9b60c6242ab125f01"
  },
  "kernelspec": {
   "display_name": "Python 3 (ipykernel)",
   "language": "python",
   "name": "python3"
  },
  "language_info": {
   "codemirror_mode": {
    "name": "ipython",
    "version": 3
   },
   "file_extension": ".py",
   "mimetype": "text/x-python",
   "name": "python",
   "nbconvert_exporter": "python",
   "pygments_lexer": "ipython3",
   "version": "3.10.12"
  }
 },
 "nbformat": 4,
 "nbformat_minor": 4
}
